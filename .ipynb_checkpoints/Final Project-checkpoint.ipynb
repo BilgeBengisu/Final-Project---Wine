{
 "cells": [
  {
   "cell_type": "code",
   "execution_count": 10,
   "id": "f25d73ee",
   "metadata": {},
   "outputs": [],
   "source": [
    "import matplotlib.pyplot as plt\n",
    "import pandas as pd\n",
    "import numpy as np"
   ]
  },
  {
   "cell_type": "code",
   "execution_count": 27,
   "id": "9a87401a",
   "metadata": {},
   "outputs": [
    {
     "name": "stdout",
     "output_type": "stream",
     "text": [
      "    Alcohol  Malic acid   Ash  Alcalinity of ash  Magnesium  Total phenols  \\\n",
      "1     14.23        1.71  2.43               15.6        127           2.80   \n",
      "1     13.20        1.78  2.14               11.2        100           2.65   \n",
      "1     13.16        2.36  2.67               18.6        101           2.80   \n",
      "1     14.37        1.95  2.50               16.8        113           3.85   \n",
      "1     13.24        2.59  2.87               21.0        118           2.80   \n",
      "..      ...         ...   ...                ...        ...            ...   \n",
      "3     13.71        5.65  2.45               20.5         95           1.68   \n",
      "3     13.40        3.91  2.48               23.0        102           1.80   \n",
      "3     13.27        4.28  2.26               20.0        120           1.59   \n",
      "3     13.17        2.59  2.37               20.0        120           1.65   \n",
      "3     14.13        4.10  2.74               24.5         96           2.05   \n",
      "\n",
      "    Flavanoids  Nonflavanoid phenols  Proanthocyanins  Color intensity   Hue  \\\n",
      "1         3.06                  0.28             2.29             5.64  1.04   \n",
      "1         2.76                  0.26             1.28             4.38  1.05   \n",
      "1         3.24                  0.30             2.81             5.68  1.03   \n",
      "1         3.49                  0.24             2.18             7.80  0.86   \n",
      "1         2.69                  0.39             1.82             4.32  1.04   \n",
      "..         ...                   ...              ...              ...   ...   \n",
      "3         0.61                  0.52             1.06             7.70  0.64   \n",
      "3         0.75                  0.43             1.41             7.30  0.70   \n",
      "3         0.69                  0.43             1.35            10.20  0.59   \n",
      "3         0.68                  0.53             1.46             9.30  0.60   \n",
      "3         0.76                  0.56             1.35             9.20  0.61   \n",
      "\n",
      "    OD280/OD315 of diluted wines  Proline  \n",
      "1                           3.92     1065  \n",
      "1                           3.40     1050  \n",
      "1                           3.17     1185  \n",
      "1                           3.45     1480  \n",
      "1                           2.93      735  \n",
      "..                           ...      ...  \n",
      "3                           1.74      740  \n",
      "3                           1.56      750  \n",
      "3                           1.56      835  \n",
      "3                           1.62      840  \n",
      "3                           1.60      560  \n",
      "\n",
      "[178 rows x 13 columns]\n"
     ]
    },
    {
     "ename": "AttributeError",
     "evalue": "'DataFrame' object has no attribute 'getattr'",
     "output_type": "error",
     "traceback": [
      "\u001b[0;31m---------------------------------------------------------------------------\u001b[0m",
      "\u001b[0;31mAttributeError\u001b[0m                            Traceback (most recent call last)",
      "Cell \u001b[0;32mIn[27], line 6\u001b[0m\n\u001b[1;32m      1\u001b[0m wineDF \u001b[38;5;241m=\u001b[39m pd\u001b[38;5;241m.\u001b[39mread_csv(\u001b[38;5;124m\"\u001b[39m\u001b[38;5;124mwine/wine.data\u001b[39m\u001b[38;5;124m\"\u001b[39m, names\u001b[38;5;241m=\u001b[39m[\u001b[38;5;124m\"\u001b[39m\u001b[38;5;124mAlcohol\u001b[39m\u001b[38;5;124m\"\u001b[39m,\u001b[38;5;124m\"\u001b[39m\u001b[38;5;124mMalic acid\u001b[39m\u001b[38;5;124m\"\u001b[39m,\u001b[38;5;124m\"\u001b[39m\u001b[38;5;124mAsh\u001b[39m\u001b[38;5;124m\"\u001b[39m,\u001b[38;5;124m\"\u001b[39m\u001b[38;5;124mAlcalinity of ash\u001b[39m\u001b[38;5;124m\"\u001b[39m,\n\u001b[1;32m      2\u001b[0m                                                \u001b[38;5;124m\"\u001b[39m\u001b[38;5;124mMagnesium\u001b[39m\u001b[38;5;124m\"\u001b[39m,\u001b[38;5;124m\"\u001b[39m\u001b[38;5;124mTotal phenols\u001b[39m\u001b[38;5;124m\"\u001b[39m,\u001b[38;5;124m\"\u001b[39m\u001b[38;5;124mFlavanoids\u001b[39m\u001b[38;5;124m\"\u001b[39m,\u001b[38;5;124m\"\u001b[39m\u001b[38;5;124mNonflavanoid phenols\u001b[39m\u001b[38;5;124m\"\u001b[39m,\n\u001b[1;32m      3\u001b[0m                                                \u001b[38;5;124m\"\u001b[39m\u001b[38;5;124mProanthocyanins\u001b[39m\u001b[38;5;124m\"\u001b[39m,\u001b[38;5;124m\"\u001b[39m\u001b[38;5;124mColor intensity\u001b[39m\u001b[38;5;124m\"\u001b[39m,\u001b[38;5;124m\"\u001b[39m\u001b[38;5;124mHue\u001b[39m\u001b[38;5;124m\"\u001b[39m,\u001b[38;5;124m\"\u001b[39m\u001b[38;5;124mOD280/OD315 of diluted wines\u001b[39m\u001b[38;5;124m\"\u001b[39m,\n\u001b[1;32m      4\u001b[0m                                                \u001b[38;5;124m\"\u001b[39m\u001b[38;5;124mProline\u001b[39m\u001b[38;5;124m\"\u001b[39m])\n\u001b[1;32m      5\u001b[0m \u001b[38;5;28mprint\u001b[39m(wineDF\u001b[38;5;241m.\u001b[39miloc[:,]),\n\u001b[0;32m----> 6\u001b[0m \u001b[38;5;28mprint\u001b[39m(wineDF\u001b[38;5;241m.\u001b[39mgetattr())\n",
      "File \u001b[0;32m~/anaconda3/lib/python3.11/site-packages/pandas/core/generic.py:5902\u001b[0m, in \u001b[0;36mNDFrame.__getattr__\u001b[0;34m(self, name)\u001b[0m\n\u001b[1;32m   5895\u001b[0m \u001b[38;5;28;01mif\u001b[39;00m (\n\u001b[1;32m   5896\u001b[0m     name \u001b[38;5;129;01mnot\u001b[39;00m \u001b[38;5;129;01min\u001b[39;00m \u001b[38;5;28mself\u001b[39m\u001b[38;5;241m.\u001b[39m_internal_names_set\n\u001b[1;32m   5897\u001b[0m     \u001b[38;5;129;01mand\u001b[39;00m name \u001b[38;5;129;01mnot\u001b[39;00m \u001b[38;5;129;01min\u001b[39;00m \u001b[38;5;28mself\u001b[39m\u001b[38;5;241m.\u001b[39m_metadata\n\u001b[1;32m   5898\u001b[0m     \u001b[38;5;129;01mand\u001b[39;00m name \u001b[38;5;129;01mnot\u001b[39;00m \u001b[38;5;129;01min\u001b[39;00m \u001b[38;5;28mself\u001b[39m\u001b[38;5;241m.\u001b[39m_accessors\n\u001b[1;32m   5899\u001b[0m     \u001b[38;5;129;01mand\u001b[39;00m \u001b[38;5;28mself\u001b[39m\u001b[38;5;241m.\u001b[39m_info_axis\u001b[38;5;241m.\u001b[39m_can_hold_identifiers_and_holds_name(name)\n\u001b[1;32m   5900\u001b[0m ):\n\u001b[1;32m   5901\u001b[0m     \u001b[38;5;28;01mreturn\u001b[39;00m \u001b[38;5;28mself\u001b[39m[name]\n\u001b[0;32m-> 5902\u001b[0m \u001b[38;5;28;01mreturn\u001b[39;00m \u001b[38;5;28mobject\u001b[39m\u001b[38;5;241m.\u001b[39m\u001b[38;5;21m__getattribute__\u001b[39m(\u001b[38;5;28mself\u001b[39m, name)\n",
      "\u001b[0;31mAttributeError\u001b[0m: 'DataFrame' object has no attribute 'getattr'"
     ]
    }
   ],
   "source": [
    "wineDF = pd.read_csv(\"wine/wine.data\", names=[\"Alcohol\",\"Malic acid\",\"Ash\",\"Alcalinity of ash\",\n",
    "                                               \"Magnesium\",\"Total phenols\",\"Flavanoids\",\"Nonflavanoid phenols\",\n",
    "                                               \"Proanthocyanins\",\"Color intensity\",\"Hue\",\"OD280/OD315 of diluted wines\",\n",
    "                                               \"Proline\"])\n",
    "print(wineDF.iloc[:,]),\n",
    "print(wineDF.getattr())"
   ]
  },
  {
   "cell_type": "code",
   "execution_count": null,
   "id": "2695b6a6",
   "metadata": {},
   "outputs": [],
   "source": []
  }
 ],
 "metadata": {
  "kernelspec": {
   "display_name": "Python 3 (ipykernel)",
   "language": "python",
   "name": "python3"
  },
  "language_info": {
   "codemirror_mode": {
    "name": "ipython",
    "version": 3
   },
   "file_extension": ".py",
   "mimetype": "text/x-python",
   "name": "python",
   "nbconvert_exporter": "python",
   "pygments_lexer": "ipython3",
   "version": "3.11.4"
  }
 },
 "nbformat": 4,
 "nbformat_minor": 5
}
